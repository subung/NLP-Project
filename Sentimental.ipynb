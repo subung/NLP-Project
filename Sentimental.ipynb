{
 "cells": [
  {
   "cell_type": "code",
   "execution_count": 7,
   "id": "79159941",
   "metadata": {
    "scrolled": false
   },
   "outputs": [
    {
     "name": "stdout",
     "output_type": "stream",
     "text": [
      "Instagram/Artificial Intelligence/TechInstagram’s co-founders are back with Artifact, a kind of TikTok for textInstagram’s co-founders are back with Artifact, a kind of TikTok for text / The app uses algorithmic predictions, which Kevin Systrom sees as ‘the future of social.’By  Casey Newton / @CaseyNewton Jan 31, 2023, 4:00 PM UTC|CommentsShare this storyA screenshot of Artifact, the new news app from Instagram co-founders Kevin Systrom and Mike Krieger. Image: ArtifactKevin Systrom and Mike Krieger are back.The Instagram co-founders, who departed Facebook in 2018 amid tensions with their parent company, have formed a new venture to explore ideas for next-generation social apps. Their first product is Artifact, a personalized news feed that uses machine learning to understand your interests and will soon let you discuss those articles with friends.Artifact — the name represents the merging of articles, facts, and artificial intelligence — is opening up its waiting list to the public today. The company plans to let users in quickly, Systrom says. You can sign up yourself here; the app is available for both Android and iOS.The simplest way to understand Artifact is as a kind of TikTok for text, though you might also call it Google Reader reborn as a mobile app or maybe even a surprise attack on Twitter. The app opens to a feed of popular articles chosen from a curated list of publishers ranging from leading news organizations like The New York Times to small-scale blogs about niche topics. Tap on articles that interest you, and Artifact will serve you similar posts and stories in the future, just as watching videos on TikTok’s For You page tunes its algorithm over time.“Every time we use machine learning to improve the consumer experience, things got really good really quickly.”Users who come in from the waitlist today will see only that central ranked feed. But Artifact beta users are currently testing two more features that Systrom expects to become core pillars of the app. One is a feed showing articles posted by users that you have chosen to follow, along with their commentary on those posts. (You won’t be able to post raw text without a link, at least for now.) The second is a direct message inbox so you can discuss the posts you read privately with friends.In one sense, Artifact can feel like a throwback. Inspired by TikTok’s success, big social platforms have spent the past few years chasing shortform video products and the ad revenue that comes with them.Meanwhile, like a social network from the late 2000s, Artifact has its sights set firmly on text. But the founders are hopeful that a decade-plus of lessons learned, along with recent advances in artificial intelligence, will help their app break through to a bigger audience.Systrom and Krieger first began discussing the idea for what became Artifact a couple years ago, he told me. Systrom said he was once skeptical of the ability of machine-learning systems to improve recommendations — but his experience at Instagram turned him into a true believer.“Throughout the years, what I saw was that every time we use machine learning to improve the consumer experience, things got really good really quickly,” he said.So why come back now? Technically, this isn’t the duo’s first project since Instagram; in 2020, they teamed up to create the website Rt.live to track the spread of covid.But Systrom told me they didn’t want to start a new company until three things happened: One, a big new wave in consumer technology that he and Krieger could attempt to catch. Two, a way to connect that wave to social technology, which he and Krieger continue to feel invested in emotionally. And three, an idea for how their product could solve a problem — Systrom has long considered technology design from the standpoint of what jobs it can do for its customers.The tech that enabled ChatGPT also created new possibilities for social networksThe breakthrough that enabled Artifact was the transformer, which Google invented in 2017. It offers a mechanism for systems to understand language using far fewer inputs than had previously been required.The transformer helped machine-learning systems improve at a much faster pace, leading directly to last year’s release of ChatGPT and the attendant boom in interest around AI. (Transformers are the “T” in ChatGPT.)It also created some new possibilities for social networks. At first, social networks showed you stuff your friends thought was interesting — the Facebook model. Then they started showing you stuff based on the people that you chose to follow, whether you were friends or not — the Twitter model.TikTok’s innovation was to show you stuff using only algorithmic predictions, regardless of who your friends are or who you followed. It soon became the most downloaded app in the world.Artifact represents an effort to do the same thing but for text.“I saw that shift, and I was like, ‘Oh, that’s the future of social,’” Systrom said. “These unconnected graphs; these graphs that are learned rather than explicitly created. And what was funny to me is as I looked around, I was like, ‘Man, why isn’t this happening everywhere in social? Why is Twitter still primarily follow-based? Why is Facebook?’”Artifact will take seriously the job of serving readers with high-quality news and informationThe question is whether personalized recommendations for news articles and blog posts can drive the same viral success for Artifact that video has for TikTok. It’s not a slam dunk: in 2014, a wave of personalized news apps with names like Zite and Pulse came and went, dogged by their inability to create deep habits in users. And earlier this month, Tokyo-based SmartNews, which uses similar AI technology to personalize recommendations, laid off 40 percent of its workforce in the United States and China amid a declining user base and challenging ad market.Like most startups at this stage, Artifact has yet to commit to a business model. Advertising would be an obvious fit, Systrom said. He’s also interested in thinking about revenue-sharing deals with publishers. If Artifact gets big, it could help readers find new publications and encourage them to subscribe to them; it may make sense for Artifact to try to take a cut.Systrom also told me Artifact will take seriously the job of serving readers with high-quality news and information. That means an effort to include only publishers who adhere to editorial standards of quality, he told me. For now, the company won’t disclose every publisher in its system, but you can search for individual outlets within the app.Both left- and right-leaning publishers were included; you’ll find Fox News there, for example. But Systrom isn’t shy about the fact that the company will be exercising its own judgment about who belongs and who doesn’t.“One of the issues with technology recently has been a lot of these companies’ unwillingness to make subjective judgments in the name of quality and progress for humanity,” he says. “Right? Just make the hard decision.”Artifact will also remove individual posts that promote falsehoods, he says. And its machine-learning systems will be primarily optimized to measure how long you spend reading about various subjects — as opposed to, say, what generates the most clicks and comments — in an effort to reward more deeply engaging material.“We fundamentally like building.”For now, Systrom and Krieger are funding Artifact themselves, though I imagine they will soon have investors beating a path to their doors. A team of seven people is now working on the app, including Robby Stein, a top product executive at Instagram from 2016 to 2021.Having sold Instagram to Facebook for $715 million, Systrom and Krieger had no pressing need to get a job. So what’s driving them this time?“We fundamentally like building,” Systrom said. “There’s no other place in the world we’d rather spend our time than writing code and building products that people enjoy. I just love it.”Advances in AI have also captured their imaginations, he said.“I think machine learning is undeniably the coolest thing to work on right now,” he said. “Not because it’s hip, but because when it knows you’re into a certain topic, and it totally gets you, you’re like, ‘How is it that just some numbers multiplied together did that?’ The CTO of OpenAI said that machine learning is basically many months of things not working, and then suddenly it works, and then it works scarily well. I resonate with that.”I’ve only used Artifact for a few hours now, and many of the features that the company plans to build remain in the planning stages. As you would expect from Systrom and Krieger, the app already shows a good deal of polish. Read an article inside the app, and when you return to the feed, it will suggest more stories like it in a handsome carousel. The app automatically switches to dark mode at night. And when you post a link, you can choose whether to let everyone comment, limit comments to people you follow, or shut them off entirely.In many ways, I think the time is ripe for this kind of product. AI really is making new things possible in consumer apps, and the collapse of Twitter under Elon Musk has created an opportunity for a team with genuine expertise in this space to take a run at text-based social networking again.To succeed on a grand scale, I suspect Artifact will have to do more than simply show you a collection of interesting links. Even in the current depressed state of digital publishing, the web remains rich with stories of interest, as anyone who has ever glanced at the list of clickbait headlines below the Google search box these days can attest. Few people spend much time complaining that they can’t find anything good to read on the internet.Yes, AI represents a huge part of TikTok’s success. But like Twitter before it, TikTok also succeeded because of the way it captures conversations about the core feed — more than a few tweets have gone viral noting that the comments on TikTok are often better than the videos themselves. Similarly, Twitter endures as a primary source for breaking news in large part because it’s where elites go to discuss the news in public.That aspect of Artifact remains under construction. But if Systrom and Krieger can bring the same craftsmanship to that part of the product that they brought to Instagram, it might not be long before they have me once again forgetting my Mastodon login.CommentsMost PopularAnker finally comes clean about its Eufy security camerasInstagram’s co-founders are back with Artifact, a kind of TikTok for textWhat to expect from Samsung’s February Unpacked eventThe ‘OK’ ComputerApple’s new HomePod plays it safeVerge Deals / Sign up for Verge Deals to get deals on products we've tested sent to your inbox daily.Email (required)Sign upBy submitting your email, you agree to our Terms and Privacy Notice. This site is protected by reCAPTCHA and the Google Privacy Policy and Terms of Service apply.From our sponsorAdvertiser Content From\n"
     ]
    }
   ],
   "source": [
    "import requests\n",
    "from bs4 import BeautifulSoup\n",
    "\n",
    "url = 'https://www.theverge.com/2023/1/31/23579552/artifact-instagram-cofounders-kevin-systrom-mike-krieger-news-app'\n",
    "response = requests.get(url)\n",
    "html = response.text\n",
    "\n",
    "\n",
    "soup = BeautifulSoup(html, 'html.parser')\n",
    "\n",
    "\n",
    "text = soup.article.get_text()\n",
    "print(text)"
   ]
  },
  {
   "cell_type": "code",
   "execution_count": 9,
   "id": "e454ca71",
   "metadata": {},
   "outputs": [
    {
     "name": "stdout",
     "output_type": "stream",
     "text": [
      "Sentiment(polarity=0.14071915064102564, subjectivity=0.4381389443889444)\n"
     ]
    }
   ],
   "source": [
    "import chardet\n",
    "\n",
    "def get_encoding(file_path):\n",
    "    with open(file_path, 'rb') as f:\n",
    "        result = chardet.detect(f.read())\n",
    "        return result['encoding']\n",
    "\n",
    "file_encoding = get_encoding('C:\\\\Program Files\\\\Python310\\\\Pr.txt')\n",
    "\n",
    "from textblob import TextBlob\n",
    "\n",
    "with open('C:\\\\Program Files\\\\Python310\\\\Pr.txt', 'r', encoding=file_encoding) as f:\n",
    "    text = f.read()\n",
    "    \n",
    "blob = TextBlob(text)\n",
    "\n",
    "print(blob.sentiment)\n"
   ]
  },
  {
   "cell_type": "code",
   "execution_count": 10,
   "id": "e95ae384",
   "metadata": {},
   "outputs": [
    {
     "name": "stdout",
     "output_type": "stream",
     "text": [
      "Positive Score: 0.14071915064102564\n"
     ]
    }
   ],
   "source": [
    "from textblob import TextBlob\n",
    "\n",
    "with open('C:\\\\Program Files\\\\Python310\\\\Pr.txt', 'r', encoding=file_encoding) as f:\n",
    "    text = f.read()\n",
    "\n",
    "blob = TextBlob(text)\n",
    "sentiment = blob.sentiment\n",
    "\n",
    "positive_score = sentiment.polarity\n",
    "\n",
    "print(\"Positive Score:\", positive_score)"
   ]
  },
  {
   "cell_type": "code",
   "execution_count": 11,
   "id": "db2804e4",
   "metadata": {},
   "outputs": [
    {
     "name": "stdout",
     "output_type": "stream",
     "text": [
      "negative_score: 0.14071915064102564\n"
     ]
    }
   ],
   "source": [
    "from textblob import TextBlob\n",
    "\n",
    "with open('C:\\\\Program Files\\\\Python310\\\\Pr.txt', 'r', encoding=file_encoding) as f:\n",
    "    text = f.read()\n",
    "blob = TextBlob(text)\n",
    "sentiment = blob.sentiment\n",
    "\n",
    "negative_score = sentiment.polarity\n",
    "\n",
    "print(\"negative_score:\", negative_score)"
   ]
  },
  {
   "cell_type": "code",
   "execution_count": 5,
   "id": "67f694a0",
   "metadata": {},
   "outputs": [
    {
     "name": "stdout",
     "output_type": "stream",
     "text": [
      "Average Sentence Length: 19.901408450704224\n"
     ]
    }
   ],
   "source": [
    "with open('C:\\\\Program Files\\\\Python310\\\\Project\\\\URL_ID1.txt', 'r', encoding=file_encoding) as f:\n",
    "    text = f.read()\n",
    "\n",
    "sentences = text.split(\".\")\n",
    "total_words = 0\n",
    "for sentence in sentences:\n",
    "    words = sentence.split()\n",
    "    total_words += len(words)\n",
    "\n",
    "average_sentence_length = total_words / len(sentences)\n",
    "\n",
    "print(\"Average Sentence Length:\", average_sentence_length)"
   ]
  },
  {
   "cell_type": "code",
   "execution_count": 12,
   "id": "0438756e",
   "metadata": {},
   "outputs": [
    {
     "name": "stdout",
     "output_type": "stream",
     "text": [
      "Percentage of Complex Words: 28.651685393258425 %\n"
     ]
    }
   ],
   "source": [
    "import nltk\n",
    "from nltk.tokenize import word_tokenize\n",
    "\n",
    "def is_complex(word):\n",
    "    if len(word) >= 6:\n",
    "        return True\n",
    "    else:\n",
    "        return False\n",
    "\n",
    "with open('C:\\\\Program Files\\\\Python310\\\\Pr.txt', 'r', encoding=file_encoding) as f:\n",
    "    text = f.read()\n",
    "\n",
    "tokens = word_tokenize(text)\n",
    "\n",
    "complex_words = [word for word in tokens if is_complex(word)]\n",
    "\n",
    "percentage_complex_words = (len(complex_words) / len(tokens)) * 100\n",
    "\n",
    "print(\"Percentage of Complex Words:\", percentage_complex_words, \"%\")\n"
   ]
  },
  {
   "cell_type": "code",
   "execution_count": null,
   "id": "14d4c61b",
   "metadata": {},
   "outputs": [],
   "source": [
    "import nltk\n",
    "from nltk.tokenize import word_tokenize\n",
    "\n",
    "def fog_index(text):\n",
    "    tokens = word_tokenize(text)\n",
    "    words_per_sentence = len(tokens) / len(text.split(\".\"))\n",
    "    syllables_per_word = 0\n",
    "    for word in tokens:\n",
    "        syllables = nltk.corpus.cmudict.dict().get(word.lower(), [])\n",
    "        if len(syllables) > 0:\n",
    "            syllables_per_word += len([syl for syl in syllables[0] if syl[-1].isdigit()])\n",
    "    fog = 0.4 * ((words_per_sentence) + 100 * (syllables_per_word / len(tokens)))\n",
    "    return fog\n",
    "\n",
    "with open('C:\\\\Program Files\\\\Python310\\\\Pr.txt', 'r', encoding=file_encoding) as f:\n",
    "    text = f.read()\n",
    "    \n",
    "fog = fog_index(text)\n",
    "\n",
    "print(\"FOG Index:\", fog)\n"
   ]
  },
  {
   "cell_type": "code",
   "execution_count": 13,
   "id": "8f58e32a",
   "metadata": {},
   "outputs": [
    {
     "name": "stdout",
     "output_type": "stream",
     "text": [
      "Average Number of Words per Sentence: 29.666666666666668\n"
     ]
    }
   ],
   "source": [
    "import nltk\n",
    "from nltk.tokenize import word_tokenize\n",
    "\n",
    "def avg_words_per_sentence(text):\n",
    "    tokens = word_tokenize(text)\n",
    "    sentences = nltk.sent_tokenize(text)\n",
    "    avg_words = len(tokens) / len(sentences)\n",
    "    return avg_words\n",
    "\n",
    "with open('C:\\\\Program Files\\\\Python310\\\\Pr.txt', 'r', encoding=file_encoding) as f:\n",
    "    text = f.read()\n",
    "\n",
    "avg_words = avg_words_per_sentence(text)\n",
    "\n",
    "print(\"Average Number of Words per Sentence:\", avg_words)"
   ]
  },
  {
   "cell_type": "code",
   "execution_count": 14,
   "id": "a858a2b4",
   "metadata": {},
   "outputs": [
    {
     "name": "stdout",
     "output_type": "stream",
     "text": [
      "Complex Word Count: 215\n"
     ]
    }
   ],
   "source": [
    "import nltk\n",
    "from nltk.corpus import cmudict\n",
    "from nltk.tokenize import word_tokenize\n",
    "\n",
    "def complex_word_count(text):\n",
    "    d = cmudict.dict()\n",
    "    tokens = word_tokenize(text)\n",
    "    complex_word_count = 0\n",
    "    for word in tokens:\n",
    "        syllables = d.get(word.lower(), [])\n",
    "        if len(syllables) > 0:\n",
    "            syllable_count = len([syl for syl in syllables[0] if syl[-1].isdigit()])\n",
    "            if syllable_count >= 3:\n",
    "                complex_word_count += 1\n",
    "    return complex_word_count\n",
    "\n",
    "with open('C:\\\\Program Files\\\\Python310\\\\Pr.txt', 'r', encoding=file_encoding) as f:\n",
    "    text = f.read()\n",
    "    \n",
    "complex_word_count = complex_word_count(text)\n",
    "\n",
    "print(\"Complex Word Count:\", complex_word_count)\n"
   ]
  },
  {
   "cell_type": "code",
   "execution_count": 15,
   "id": "2baf95a5",
   "metadata": {},
   "outputs": [
    {
     "name": "stdout",
     "output_type": "stream",
     "text": [
      "Word Count: 2136\n"
     ]
    }
   ],
   "source": [
    "import nltk\n",
    "from nltk.tokenize import word_tokenize\n",
    "\n",
    "def word_count(text):\n",
    "    tokens = word_tokenize(text)\n",
    "    return len(tokens)\n",
    "\n",
    "with open('C:\\\\Program Files\\\\Python310\\\\Pr.txt', 'r', encoding=file_encoding) as f:\n",
    "    text = f.read()\n",
    "\n",
    "word_count = word_count(text)\n",
    "\n",
    "print(\"Word Count:\", word_count)\n"
   ]
  },
  {
   "cell_type": "code",
   "execution_count": 16,
   "id": "bfdf7815",
   "metadata": {},
   "outputs": [
    {
     "name": "stdout",
     "output_type": "stream",
     "text": [
      "Average Number of Syllables per Word: 1.2083333333333333\n"
     ]
    }
   ],
   "source": [
    "import nltk\n",
    "from nltk.corpus import cmudict\n",
    "from nltk.tokenize import word_tokenize\n",
    "\n",
    "def avg_syllables_per_word(text):\n",
    "    d = cmudict.dict()\n",
    "    tokens = word_tokenize(text)\n",
    "    syllable_count = 0\n",
    "    for word in tokens:\n",
    "        syllables = d.get(word.lower(), [])\n",
    "        if len(syllables) > 0:\n",
    "            syllable_count += len([syl for syl in syllables[0] if syl[-1].isdigit()])\n",
    "    avg_syllables = syllable_count / len(tokens)\n",
    "    return avg_syllables\n",
    "\n",
    "with open('C:\\\\Program Files\\\\Python310\\\\Pr.txt', 'r', encoding=file_encoding) as f:\n",
    "    text = f.read()\n",
    "\n",
    "avg_syllables = avg_syllables_per_word(text)\n",
    "\n",
    "print(\"Average Number of Syllables per Word:\", avg_syllables)\n"
   ]
  },
  {
   "cell_type": "code",
   "execution_count": 17,
   "id": "9b113165",
   "metadata": {},
   "outputs": [
    {
     "name": "stdout",
     "output_type": "stream",
     "text": [
      "Number of personal pronouns: 968\n"
     ]
    }
   ],
   "source": [
    "import re\n",
    "\n",
    "pronouns = ['I', 'me', 'my', 'mine', 'you', 'your', 'yours', 'he', 'him', 'his', 'she', 'her', 'hers', 'it', 'its', 'we', 'us', 'our', 'ours', 'they', 'them', 'their', 'theirs']\n",
    "pronoun_pattern = re.compile('|'.join(pronouns), re.IGNORECASE)\n",
    "\n",
    "def count_pronouns(text):\n",
    "  return len(re.findall(pronoun_pattern, text))\n",
    "\n",
    "with open('C:\\\\Program Files\\\\Python310\\\\Pr.txt', 'r', encoding=file_encoding) as f:\n",
    "    text = f.read()\n",
    "\n",
    "pronoun_count = count_pronouns(text)\n",
    "print(f'Number of personal pronouns: {pronoun_count}')\n"
   ]
  },
  {
   "cell_type": "code",
   "execution_count": 18,
   "id": "8a3c9c7a",
   "metadata": {},
   "outputs": [
    {
     "name": "stdout",
     "output_type": "stream",
     "text": [
      "Average word length: 5.01\n"
     ]
    }
   ],
   "source": [
    "def avg_word_length(text):\n",
    "  words = text.split()\n",
    "  word_lengths = [len(word) for word in words]\n",
    "  avg_length = sum(word_lengths) / len(words)\n",
    "  return avg_length\n",
    "\n",
    "with open('C:\\\\Program Files\\\\Python310\\\\Pr.txt', 'r', encoding=file_encoding) as f:\n",
    "    text = f.read()\n",
    "    \n",
    "avg_length = avg_word_length(text)\n",
    "print(f'Average word length: {avg_length:.2f}')\n"
   ]
  },
  {
   "cell_type": "code",
   "execution_count": null,
   "id": "e2c63aeb",
   "metadata": {},
   "outputs": [],
   "source": []
  }
 ],
 "metadata": {
  "kernelspec": {
   "display_name": "Python 3 (ipykernel)",
   "language": "python",
   "name": "python3"
  },
  "language_info": {
   "codemirror_mode": {
    "name": "ipython",
    "version": 3
   },
   "file_extension": ".py",
   "mimetype": "text/x-python",
   "name": "python",
   "nbconvert_exporter": "python",
   "pygments_lexer": "ipython3",
   "version": "3.9.12"
  }
 },
 "nbformat": 4,
 "nbformat_minor": 5
}
